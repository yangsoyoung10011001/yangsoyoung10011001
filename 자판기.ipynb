{
  "nbformat": 4,
  "nbformat_minor": 0,
  "metadata": {
    "colab": {
      "provenance": [],
      "collapsed_sections": [],
      "authorship_tag": "ABX9TyOv1CWLum1AMNWm64y7SeDu",
      "include_colab_link": true
    },
    "kernelspec": {
      "display_name": "Python 3",
      "name": "python3"
    },
    "language_info": {
      "name": "python"
    }
  },
  "cells": [
    {
      "cell_type": "markdown",
      "metadata": {
        "id": "view-in-github",
        "colab_type": "text"
      },
      "source": [
        "<a href=\"https://colab.research.google.com/github/yangsoyoung10011001/yangsoyoung10011001/blob/main/%EC%9E%90%ED%8C%90%EA%B8%B0.ipynb\" target=\"_parent\"><img src=\"https://colab.research.google.com/assets/colab-badge.svg\" alt=\"Open In Colab\"/></a>"
      ]
    },
    {
      "cell_type": "code",
      "metadata": {
        "colab": {
          "base_uri": "https://localhost:8080/"
        },
        "id": "osaJpW-ReWdT",
        "outputId": "6354d740-671c-45e8-d1bf-67ec227943d2"
      },
      "source": [
        "import math\n",
        "#자판기\n",
        "ramen = ['신라면', '진라면', '삼양라면', '너구리', ' 짜파게티', '불닭볶음면', '해물짬뽕']\n",
        "cost_non = [1150, 800, 900, 1000, 1300, 1350, 1550]#라면 가격\n",
        "print(ramen[0])\n",
        "menu = {}\n",
        "for i in range(0,6):\n",
        "  menu[ramen[i]]=cost_non[i]\n",
        "print(menu)\n",
        "#자판기 주문\n",
        "change=int(input('돈을 넣으세요'))\n",
        "#q=input('라면 종류를 선택하세요:')\n",
        "\n",
        "#print(cost_one)\n",
        "while 1:\n",
        "  q=input('라면 종류를 선택하세요:')\n",
        "  cost_one=menu.get(q)\n",
        "  n=int(input('개수를 입력하세요 :'))\n",
        "  cost_tot=n*cost_one\n",
        "  change=change-cost_tot\n",
        "  print('잔돈이',change,'입니다.')\n",
        "\n",
        "  #잔돈 개수 계산\n",
        "  fivehun=change%1000\n",
        "  hundred=fivehun%500#550\n",
        "  fifty=hundred%100#50\n",
        "  ten=fifty%50\n",
        "  n_10=ten/10\n",
        "  n_50=fifty/50\n",
        "  n_100=math.floor(hundred/100)\n",
        "  n_500=math.floor(fivehun/500)\n",
        "  n_1000=math.floor(change/1000)\n",
        "\n",
        "  #결제모듈\n",
        "  if change < 0:\n",
        "   print('돈이 모자라서 반환합니다.')\n",
        "   break\n",
        "  elif change==0:\n",
        "    print('결제가 완료 되었습니다')\n",
        "    print('종료합니다.')\n",
        "    break\n",
        "  else :\n",
        "   reorder=input('더 주문하시겠습니까? (y/n)')\n",
        "   if reorder == 'y' :\n",
        "     continue\n",
        "   else :\n",
        "     print('주문이 종료되었습니다.')\n",
        "     print('잔돈을 반환합니다.')\n",
        "     print('천원짜리 %d장 500원짜리 %d개 100원짜리 %d개 50원짜리 %d개 10원짜리 %d개를 반환합니다.'%(n_1000,n_500,n_100,n_50,n_10))\n",
        "     break"
      ],
      "execution_count": null,
      "outputs": [
        {
          "output_type": "stream",
          "name": "stdout",
          "text": [
            "신라면\n",
            "{'신라면': 1150, '진라면': 800, '삼양라면': 900, '너구리': 1000, ' 짜파게티': 1300, '불닭볶음면': 1350}\n",
            "돈을 넣으세요5000\n",
            "라면 종류를 선택하세요:삼양라면\n",
            "개수를 입력하세요 :3\n",
            "잔돈이 2300 입니다.\n",
            "더 주문하시겠습니까? (y/n)y\n",
            "라면 종류를 선택하세요:신라면\n",
            "개수를 입력하세요 :1\n",
            "잔돈이 1150 입니다.\n",
            "더 주문하시겠습니까? (y/n)\n",
            "주문이 종료되었습니다.\n",
            "잔돈을 반환합니다.\n",
            "천원짜리 1장 500원짜리 0개 100원짜리 1개 50원짜리 1개 10원짜리 0개를 반환합니다.\n"
          ]
        }
      ]
    },
    {
      "cell_type": "markdown",
      "metadata": {
        "id": "GWEnLaeKTAAT"
      },
      "source": []
    },
    {
      "cell_type": "markdown",
      "metadata": {
        "id": "HCLJbQeCPiM6"
      },
      "source": []
    },
    {
      "cell_type": "code",
      "metadata": {
        "id": "xoR2l3AWeYDa"
      },
      "source": [],
      "execution_count": null,
      "outputs": []
    }
  ]
}